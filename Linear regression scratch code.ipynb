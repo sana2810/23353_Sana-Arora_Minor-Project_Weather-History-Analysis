{
 "cells": [
  {
   "cell_type": "code",
   "execution_count": 2,
   "id": "63ac2db5",
   "metadata": {},
   "outputs": [],
   "source": [
    "import numpy as np\n",
    "import matplotlib.pyplot as plt"
   ]
  },
  {
   "cell_type": "code",
   "execution_count": 3,
   "id": "d32ec537",
   "metadata": {},
   "outputs": [],
   "source": [
    "X=np.random.randint(0,20,100)\n",
    "noise=np.random.randn(100)*2\n",
    "Y=3*X+1+noise"
   ]
  },
  {
   "cell_type": "code",
   "execution_count": 4,
   "id": "95abb051",
   "metadata": {},
   "outputs": [
    {
     "data": {
      "text/plain": [
       "(100,)"
      ]
     },
     "execution_count": 4,
     "metadata": {},
     "output_type": "execute_result"
    }
   ],
   "source": [
    "X.shape"
   ]
  },
  {
   "cell_type": "code",
   "execution_count": 5,
   "id": "e93ef57c",
   "metadata": {},
   "outputs": [
    {
     "data": {
      "text/plain": [
       "array([ 1,  3, 17, 13, 11,  3, 13, 17, 15, 12, 18, 18,  0, 12, 10, 14, 17,\n",
       "       18,  8, 14,  0,  7, 16,  9, 14,  6, 10,  6, 10,  8,  9,  4,  6, 16,\n",
       "       19, 11, 11, 10,  8, 11,  4,  3,  5, 10,  2, 14, 11, 11, 15, 17,  1,\n",
       "        6,  9, 13,  5,  2, 18, 13,  0, 18, 18,  5,  9,  6,  8, 17,  1, 11,\n",
       "        5, 11,  7, 19, 14,  5, 10,  4,  8, 13,  0, 18,  9,  0, 18, 17,  7,\n",
       "       18,  5, 18,  8,  2, 11,  7,  8, 15,  6, 18,  9,  2, 17,  5])"
      ]
     },
     "execution_count": 5,
     "metadata": {},
     "output_type": "execute_result"
    }
   ],
   "source": [
    "X"
   ]
  },
  {
   "cell_type": "code",
   "execution_count": 6,
   "id": "79ef7591",
   "metadata": {},
   "outputs": [
    {
     "data": {
      "text/plain": [
       "(100,)"
      ]
     },
     "execution_count": 6,
     "metadata": {},
     "output_type": "execute_result"
    }
   ],
   "source": [
    "Y.shape"
   ]
  },
  {
   "cell_type": "code",
   "execution_count": 7,
   "id": "9c1369b8",
   "metadata": {},
   "outputs": [
    {
     "data": {
      "image/png": "[encoded data removed]",
      "text/plain": [
       "<Figure size 432x288 with 1 Axes>"
      ]
     },
     "metadata": {
      "needs_background": "light"
     },
     "output_type": "display_data"
    }
   ],
   "source": [
    "plt.scatter(X,Y)\n",
    "plt.show()"
   ]
  },
  {
   "cell_type": "code",
   "execution_count": 8,
   "id": "55290824",
   "metadata": {},
   "outputs": [],
   "source": [
    "X=X.reshape(100,1)"
   ]
  },
  {
   "cell_type": "code",
   "execution_count": 9,
   "id": "86a6f8e2",
   "metadata": {},
   "outputs": [
    {
     "data": {
      "text/plain": [
       "(100, 1)"
      ]
     },
     "execution_count": 9,
     "metadata": {},
     "output_type": "execute_result"
    }
   ],
   "source": [
    "X.shape"
   ]
  },
  {
   "cell_type": "code",
   "execution_count": 10,
   "id": "96d82d34",
   "metadata": {},
   "outputs": [],
   "source": [
    "def hypothesis(x,weights):#this weights contain w and w0\n",
    "    '''x:real input values (time spent)\n",
    "    weights:list of w and w0'''\n",
    "    y_hat=weights[0]+weights[1]*x\n",
    "    return y_hat\n"
   ]
  },
  {
   "cell_type": "code",
   "execution_count": 11,
   "id": "dabb3cbe",
   "metadata": {},
   "outputs": [
    {
     "data": {
      "text/plain": [
       "7.5"
      ]
     },
     "execution_count": 11,
     "metadata": {},
     "output_type": "execute_result"
    }
   ],
   "source": [
    "hypothesis(2.5,[0,3])"
   ]
  },
  {
   "cell_type": "code",
   "execution_count": 12,
   "id": "018c3be6",
   "metadata": {},
   "outputs": [],
   "source": [
    "def error(X,Y,weights):\n",
    "    '''X:input n data points\n",
    "    Y:target n data points\n",
    "    '''\n",
    "    n=X.shape[0]\n",
    "    total_err=0.0\n",
    "    for i in range(n):\n",
    "        y_hat_i=hypothesis(X[i],weights)\n",
    "        total_err+=((Y[i] - y_hat_i)**2)\n",
    "    return total_err/n"
   ]
  },
  {
   "cell_type": "code",
   "execution_count": 13,
   "id": "e4648e69",
   "metadata": {},
   "outputs": [],
   "source": [
    "def gradient(X,Y,weights):\n",
    "    n=X.shape[0]\n",
    "    grad=np.zeros(2)#first zero is for partial of w0 and second for w\n",
    "    for i in range(n):\n",
    "        y_hat_i=hypothesis(X[i],weights)\n",
    "        grad[0]+=(y_hat_i-Y[i])\n",
    "        grad[1]+=((y_hat_i-Y[i])*X[i])\n",
    "    return 2*grad/n\n",
    "    "
   ]
  },
  {
   "cell_type": "code",
   "execution_count": 26,
   "id": "74675101",
   "metadata": {},
   "outputs": [],
   "source": [
    "def gradient_descent(X,Y,max_itr=50,learning_rate=0.001):\n",
    "    #step 1:init() randomly\n",
    "    weights=np.random.randn(2)\n",
    "    error_list=[]\n",
    "    #step 2:repeat unytil convergence\n",
    "    for i in range(max_itr):\n",
    "        grad=gradient(X,Y,weights)\n",
    "        e=error(X,Y,weights)\n",
    "        error_list.append(e)\n",
    "        weights[0]=weights[0]-learning_rate*grad[0]\n",
    "        weights[1]=weights[1]-learning_rate*grad[1]\n",
    "    return weights,error_list\n",
    "    "
   ]
  },
  {
   "cell_type": "code",
   "execution_count": 32,
   "id": "ede5a4c9",
   "metadata": {},
   "outputs": [],
   "source": [
    "opt_weights,error_list=gradient_descent(X,Y)"
   ]
  },
  {
   "cell_type": "code",
   "execution_count": 33,
   "id": "190e4a6b",
   "metadata": {},
   "outputs": [
    {
     "data": {
      "text/plain": [
       "array([-0.,  3.])"
      ]
     },
     "execution_count": 33,
     "metadata": {},
     "output_type": "execute_result"
    }
   ],
   "source": [
    "opt_weights.round()"
   ]
  },
  {
   "cell_type": "code",
   "execution_count": 34,
   "id": "607ecf9a",
   "metadata": {},
   "outputs": [
    {
     "data": {
      "text/plain": [
       "array([2.66154011])"
      ]
     },
     "execution_count": 34,
     "metadata": {},
     "output_type": "execute_result"
    }
   ],
   "source": [
    "#prediction\n",
    "hypothesis(X[0],opt_weights)"
   ]
  },
  {
   "cell_type": "code",
   "execution_count": 35,
   "id": "87504de0",
   "metadata": {},
   "outputs": [
    {
     "data": {
      "text/plain": [
       "[<matplotlib.lines.Line2D at 0x1fc3c780160>]"
      ]
     },
     "execution_count": 35,
     "metadata": {},
     "output_type": "execute_result"
    },
    {
     "data": {
      "image/png": "[encoded data removed]",
      "text/plain": [
       "<Figure size 432x288 with 1 Axes>"
      ]
     },
     "metadata": {
      "needs_background": "light"
     },
     "output_type": "display_data"
    }
   ],
   "source": [
    "plt.plot(error_list)"
   ]
  },
  {
   "cell_type": "code",
   "execution_count": 19,
   "id": "a661bd1c",
   "metadata": {},
   "outputs": [
    {
     "data": {
      "text/plain": [
       "5.125677712687507"
      ]
     },
     "execution_count": 19,
     "metadata": {},
     "output_type": "execute_result"
    }
   ],
   "source": [
    "Y[0]"
   ]
  },
  {
   "cell_type": "code",
   "execution_count": 20,
   "id": "4c1763f0",
   "metadata": {},
   "outputs": [
    {
     "data": {
      "text/plain": [
       "1.304177293799452"
      ]
     },
     "execution_count": 20,
     "metadata": {},
     "output_type": "execute_result"
    }
   ],
   "source": [
    "x=0\n",
    "opt_weights[1]*x+opt_weights[0]"
   ]
  },
  {
   "cell_type": "code",
   "execution_count": 21,
   "id": "34bb6430",
   "metadata": {},
   "outputs": [
    {
     "data": {
      "text/plain": [
       "57.40454661480188"
      ]
     },
     "execution_count": 21,
     "metadata": {},
     "output_type": "execute_result"
    }
   ],
   "source": [
    "x=19\n",
    "opt_weights[1]*x+opt_weights[0]"
   ]
  },
  {
   "cell_type": "code",
   "execution_count": 22,
   "id": "5765d2da",
   "metadata": {},
   "outputs": [],
   "source": [
    "x1,y1=0,1.3\n",
    "x2,y2=19,57.4"
   ]
  },
  {
   "cell_type": "code",
   "execution_count": 25,
   "id": "3fb39b39",
   "metadata": {},
   "outputs": [
    {
     "data": {
      "text/plain": [
       "[]"
      ]
     },
     "execution_count": 25,
     "metadata": {},
     "output_type": "execute_result"
    },
    {
     "data": {
      "image/png": "[encoded data removed]",
      "text/plain": [
       "<Figure size 432x288 with 1 Axes>"
      ]
     },
     "metadata": {
      "needs_background": "light"
     },
     "output_type": "display_data"
    }
   ],
   "source": [
    "plt.scatter(X,Y)\n",
    "plt.plot([x1,x2],[y1,y2],color='magenta')\n",
    "plt.plot()"
   ]
  },
  {
   "cell_type": "code",
   "execution_count": null,
   "id": "02b053e8",
   "metadata": {},
   "outputs": [],
   "source": []
  }
 ],
 "metadata": {
  "kernelspec": {
   "display_name": "Python 3 (ipykernel)",
   "language": "python",
   "name": "python3"
  },
  "language_info": {
   "codemirror_mode": {
    "name": "ipython",
    "version": 3
   },
   "file_extension": ".py",
   "mimetype": "text/x-python",
   "name": "python",
   "nbconvert_exporter": "python",
   "pygments_lexer": "ipython3",
   "version": "3.9.7"
  }
 },
 "nbformat": 4,
 "nbformat_minor": 5
}
