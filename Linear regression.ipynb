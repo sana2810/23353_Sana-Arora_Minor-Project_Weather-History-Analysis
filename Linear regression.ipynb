{
 "cells": [
  {
   "cell_type": "code",
   "execution_count": 1,
   "id": "f158b7c8",
   "metadata": {},
   "outputs": [],
   "source": [
    "import numpy as np\n",
    "import matplotlib.pyplot as plt"
   ]
  },
  {
   "cell_type": "code",
   "execution_count": 20,
   "id": "9a7a12b8",
   "metadata": {},
   "outputs": [
    {
     "data": {
      "text/plain": [
       "array([ 9.62837689, 10.79907698, 20.26352531, 45.14777912, 32.29636469,\n",
       "       28.54850161, 25.67632919, 32.37687905, 12.59036197,  5.71086226,\n",
       "       20.29676708, 34.53532381, 20.59025188, 43.18346615, 36.26298991,\n",
       "       39.59760768, 17.75341547, 32.22036313, 28.00794472, 54.0759887 ,\n",
       "       17.63825044, 49.15973402, 29.51846704, 49.29476208, 21.0269355 ,\n",
       "        5.44158925, 25.75621563, 58.51929962, 55.71624475, 22.47578114,\n",
       "       41.45377839, 53.60580682, 44.46051912, 20.2416599 , 41.0680926 ,\n",
       "       16.11820809, 13.40395686, 12.12319931,  8.46804737, 27.67516791,\n",
       "       23.67768851, 53.42969317, 41.25347218,  6.16071756,  4.83152391,\n",
       "       62.0732849 , 40.01399955,  7.65088933, 21.22106272, 29.06256994,\n",
       "       35.12608432, 20.68425869,  5.0662389 , 31.72030041,  4.59885428,\n",
       "       25.65503202,  2.06424378, 16.12085875, 31.10342627, 55.66220823,\n",
       "       32.19359287,  3.68236708, 53.65517139, 57.4597385 , 47.35097162,\n",
       "       12.80562574, 50.04572155, 31.09360789, 16.99492551, -1.96012022,\n",
       "       53.44999729, 29.65658934, 14.26797218, 44.2784971 , 26.26430879,\n",
       "       27.79196941, 28.26117972,  8.02968988, 55.85903438, 16.45901978,\n",
       "       18.66887626, 36.92060577, 12.82226855, 33.11001898,  6.47712498,\n",
       "       36.81238423,  4.84305869, 46.56203368, 22.16749308, 19.39339742,\n",
       "       55.17768829, 23.87504045, 54.47704893, 32.31752339, 12.67164058,\n",
       "       21.53291946, 20.55573102, 42.39943913, 25.98631197, 44.86204962])"
      ]
     },
     "execution_count": 20,
     "metadata": {},
     "output_type": "execute_result"
    }
   ],
   "source": [
    "X=np.random.randint(0,20,100)\n",
    "noise=np.random.randn(100)*2\n",
    "Y=3*X+1+noise\n",
    "Y"
   ]
  },
  {
   "cell_type": "code",
   "execution_count": 21,
   "id": "c476327c",
   "metadata": {},
   "outputs": [
    {
     "data": {
      "text/plain": [
       "(100,)"
      ]
     },
     "execution_count": 21,
     "metadata": {},
     "output_type": "execute_result"
    }
   ],
   "source": [
    "X.shape"
   ]
  },
  {
   "cell_type": "code",
   "execution_count": 22,
   "id": "c3ce1875",
   "metadata": {},
   "outputs": [
    {
     "data": {
      "text/plain": [
       "array([ 2,  4,  6, 14, 10,  9,  7, 11,  3,  2,  7, 11,  7, 15, 11, 13,  6,\n",
       "        9,  9, 18,  6, 16, 10, 16,  7,  1,  8, 19, 19,  8, 13, 17, 15,  7,\n",
       "       14,  6,  3,  3,  2,  9,  7, 17, 13,  3,  1, 19, 14,  3,  6,  8, 12,\n",
       "        6,  2, 10,  2,  8,  1,  6,  9, 18, 10,  1, 17, 19, 15,  4, 17, 10,\n",
       "        5,  0, 18,  9,  5, 16,  9,  8, 10,  2, 18,  5,  6, 11,  4, 10,  2,\n",
       "       13,  2, 16,  8,  7, 18,  7, 18, 10,  4,  6,  8, 14,  8, 15])"
      ]
     },
     "execution_count": 22,
     "metadata": {},
     "output_type": "execute_result"
    }
   ],
   "source": [
    "X"
   ]
  },
  {
   "cell_type": "code",
   "execution_count": 23,
   "id": "f30cfa83",
   "metadata": {},
   "outputs": [
    {
     "data": {
      "text/plain": [
       "(100,)"
      ]
     },
     "execution_count": 23,
     "metadata": {},
     "output_type": "execute_result"
    }
   ],
   "source": [
    "Y.shape"
   ]
  },
  {
   "cell_type": "code",
   "execution_count": 24,
   "id": "9f56f539",
   "metadata": {},
   "outputs": [
    {
     "data": {
      "text/plain": [
       "<function matplotlib.pyplot.show(close=None, block=None)>"
      ]
     },
     "execution_count": 24,
     "metadata": {},
     "output_type": "execute_result"
    },
    {
     "data": {
      "image/png": "[encoded data removed]",
      "text/plain": [
       "<Figure size 432x288 with 1 Axes>"
      ]
     },
     "metadata": {
      "needs_background": "light"
     },
     "output_type": "display_data"
    }
   ],
   "source": [
    "plt.scatter(X,Y)\n",
    "\n",
    "plt.show"
   ]
  },
  {
   "cell_type": "code",
   "execution_count": 13,
   "id": "3398dc8b",
   "metadata": {},
   "outputs": [
    {
     "data": {
      "text/plain": [
       "0.3603988092172268"
      ]
     },
     "execution_count": 13,
     "metadata": {},
     "output_type": "execute_result"
    }
   ],
   "source": [
    "np.random.randn(100)"
   ]
  },
  {
   "cell_type": "code",
   "execution_count": null,
   "id": "34d7d4d3",
   "metadata": {},
   "outputs": [],
   "source": []
  },
  {
   "cell_type": "code",
   "execution_count": null,
   "id": "a7efbe3e",
   "metadata": {},
   "outputs": [],
   "source": []
  }
 ],
 "metadata": {
  "kernelspec": {
   "display_name": "Python 3 (ipykernel)",
   "language": "python",
   "name": "python3"
  },
  "language_info": {
   "codemirror_mode": {
    "name": "ipython",
    "version": 3
   },
   "file_extension": ".py",
   "mimetype": "text/x-python",
   "name": "python",
   "nbconvert_exporter": "python",
   "pygments_lexer": "ipython3",
   "version": "3.9.7"
  }
 },
 "nbformat": 4,
 "nbformat_minor": 5
}
